{
 "cells": [
  {
   "cell_type": "markdown",
   "metadata": {},
   "source": [
    "# Lab 3 - Hopfield Networks"
   ]
  },
  {
   "cell_type": "markdown",
   "metadata": {},
   "source": [
    "**Imports**"
   ]
  },
  {
   "cell_type": "code",
   "execution_count": 107,
   "metadata": {},
   "outputs": [
    {
     "name": "stdout",
     "output_type": "stream",
     "text": [
      "The autoreload extension is already loaded. To reload it, use:\n",
      "  %reload_ext autoreload\n"
     ]
    }
   ],
   "source": [
    "%load_ext autoreload\n",
    "%autoreload 2\n",
    "\n",
    "from ann_lab3_utils import Hopfield_Network\n",
    "\n",
    "import numpy as np\n",
    "import seaborn as sns; sns.set()\n",
    "import pandas as pd\n",
    "import matplotlib.pyplot as plt\n",
    "import itertools\n",
    "from random import randrange"
   ]
  },
  {
   "cell_type": "code",
   "execution_count": 108,
   "metadata": {},
   "outputs": [],
   "source": [
    "data_set_path = '/Users/brenoaberle/Documents/KTH/Artificial_Neural_Networks_and_Deep_Architectures/Assignments/Lab3/'"
   ]
  },
  {
   "cell_type": "markdown",
   "metadata": {},
   "source": [
    "## 3.1 Convergence and attractors"
   ]
  },
  {
   "cell_type": "markdown",
   "metadata": {},
   "source": [
    "Create three memory patterns:"
   ]
  },
  {
   "cell_type": "code",
   "execution_count": 109,
   "metadata": {},
   "outputs": [],
   "source": [
    "# Create memory patterns\n",
    "x1 = np.array([[-1,-1, 1,-1, 1,-1,-1, 1]])\n",
    "x2 = np.array([[-1,-1,-1,-1,-1, 1,-1,-1]])\n",
    "x3 = np.array([[-1, 1, 1,-1,-1, 1,-1, 1]])\n",
    "x = np.vstack((x1,x2,x3))"
   ]
  },
  {
   "cell_type": "markdown",
   "metadata": {},
   "source": [
    "---\n",
    "Create Hopfield Network and create weights with all patterns:"
   ]
  },
  {
   "cell_type": "code",
   "execution_count": 110,
   "metadata": {},
   "outputs": [],
   "source": [
    "hopfield_net = Hopfield_Network()\n",
    "hopfield_net.fit(x)"
   ]
  },
  {
   "cell_type": "markdown",
   "metadata": {},
   "source": [
    "---\n",
    "Check if the network was able to store all three patterns:\n",
    "\n",
    "- Yes, the network was able to store all three patterns, since we applied the recall method on all pattern and input equals output (recall)."
   ]
  },
  {
   "cell_type": "code",
   "execution_count": 111,
   "metadata": {},
   "outputs": [
    {
     "name": "stdout",
     "output_type": "stream",
     "text": [
      "True\n",
      "True\n",
      "True\n"
     ]
    }
   ],
   "source": [
    "recall1 = hopfield_net.recall(x1,num_updates=1)\n",
    "recall2 = hopfield_net.recall(x2,num_updates=1)\n",
    "recall3 = hopfield_net.recall(x3,num_updates=1)\n",
    "\n",
    "print(np.array_equal(x1, recall1))\n",
    "print(np.array_equal(x2, recall2))\n",
    "print(np.array_equal(x3, recall3))"
   ]
  },
  {
   "cell_type": "markdown",
   "metadata": {},
   "source": [
    "---\n",
    "Distorted versions of the original patterns:"
   ]
  },
  {
   "cell_type": "code",
   "execution_count": 112,
   "metadata": {},
   "outputs": [],
   "source": [
    "x1d = np.array([[1,-1, 1,-1, 1,-1,-1, 1]]) # 1 bit error\n",
    "x2d = np.array([[1, 1,-1,-1,-1, 1,-1,-1]]) # 2 bit error\n",
    "x3d = np.array([[1, 1, 1,-1, 1, 1,-1, 1]]) # 3 bit error"
   ]
  },
  {
   "cell_type": "markdown",
   "metadata": {},
   "source": [
    "---\n",
    "Apply the update rule repeatedly until you reach a stable fixed point. Did\n",
    "all the patterns converge towards stored patterns?\n",
    "\n",
    "- x1d converged to x1 after one update iteration\n",
    "- After 10 update iterations: x2d is jumping back and forth between the following two patterns which are non of the original three. Hence, x2d doesn't converge: <br>\n",
    "[[-1. -1. -1.  1. -1.  1.  1. -1.]] <br>\n",
    "[[ 1.  1. -1. -1. -1.  1. -1. -1.]]\n",
    "- After 10 update iterations: x3d is jumping back and forth between the following two patterns which are non of the original three. Hence, x3d doesn't converge: <br>\n",
    "[[-1. -1.  1. -1. -1. -1. -1.  1.]] <br>\n",
    "[[-1. -1.  1. -1.  1.  1. -1.  1.]]"
   ]
  },
  {
   "cell_type": "code",
   "execution_count": 113,
   "metadata": {},
   "outputs": [
    {
     "name": "stdout",
     "output_type": "stream",
     "text": [
      "Recall x1d:  [[-1. -1.  1. -1.  1. -1. -1.  1.]]\n",
      "Recall x2d:  [[ 1.  1. -1. -1. -1.  1. -1. -1.]]\n",
      "Recall x3d:  [[-1. -1.  1. -1.  1.  1. -1.  1.]]\n"
     ]
    }
   ],
   "source": [
    "recall_dist1 = hopfield_net.recall(x1d,num_updates=1)\n",
    "print(\"Recall x1d: \",recall_dist1)\n",
    "\n",
    "recall_dist2 = hopfield_net.recall(x2d,num_updates=10)\n",
    "print(\"Recall x2d: \",recall_dist2)\n",
    "\n",
    "recall_dist3 = hopfield_net.recall(x3d,num_updates=10)\n",
    "print(\"Recall x3d: \",recall_dist3)"
   ]
  },
  {
   "cell_type": "markdown",
   "metadata": {},
   "source": [
    "---\n",
    "How many attractors are there in this network? Hint: automate the\n",
    "searching.\n",
    "\n",
    "- Approach: Create all possible constellations of an 8 bit long array with values -1 and 1 (permutation) --> calculate recalls --> of all outputs determine unique outputs\n",
    "- An binary array with 8 bits can generate $2^8 = 256$ different permutations\n",
    "- In total: 64 attractors"
   ]
  },
  {
   "cell_type": "code",
   "execution_count": 420,
   "metadata": {},
   "outputs": [
    {
     "name": "stdout",
     "output_type": "stream",
     "text": [
      "Total amount of attractors equals number of unique outputs:  64\n"
     ]
    }
   ],
   "source": [
    "all_permutations = list(itertools.product([-1, 1], repeat=8)) # create all permutations\n",
    "all_permutations = [np.array(x).reshape(1,8) for x in all_permutations] # transform all entries into numpy.arrays\n",
    "\n",
    "outputs = []\n",
    "\n",
    "\n",
    "for permutation in all_permutations: # calculate the recalls for all permutations\n",
    "    permutation = hopfield_net.recall(permutation,num_updates=100)\n",
    "    outputs.append(permutation)\n",
    "    #output = hopfield_net.recall(permutation,num_updates=1)\n",
    "    #output = hopfield_net.recall(output,num_updates=100)\n",
    "    #outputs.append(output)\n",
    "    \n",
    "unique_outputs = np.unique(outputs, axis=0)\n",
    "print(\"Total amount of attractors equals number of unique outputs: \",len(unique_outputs))\n"
   ]
  },
  {
   "cell_type": "markdown",
   "metadata": {},
   "source": [
    "---\n",
    "What happens when you make the starting pattern even more dissimilar\n",
    "to the stored ones (e.g. more than half is wrong)?\n",
    "\n",
    "- With a pattern that is distorted more than 50 % than the original, the recall algorithm jumps also back and forth between two not trained patterns"
   ]
  },
  {
   "cell_type": "code",
   "execution_count": 375,
   "metadata": {},
   "outputs": [
    {
     "name": "stdout",
     "output_type": "stream",
     "text": [
      "[[ 1.  1.  1. -1.  1. -1. -1.  1.]]\n"
     ]
    }
   ],
   "source": [
    "x2_distorted = np.array([[1,1,1,-1,1,-1,-1,1]])\n",
    "recall_x2_distorted = hopfield_net.recall(x2_distorted,num_updates=30)\n",
    "print(recall_x2_distorted)"
   ]
  },
  {
   "cell_type": "markdown",
   "metadata": {},
   "source": [
    "## 3.2 Sequential Update"
   ]
  },
  {
   "cell_type": "markdown",
   "metadata": {},
   "source": [
    "Load dataset and create dataframe.\n",
    "Patterns p1,...,p9.\n",
    "p10: degraded version of p1.\n",
    "p11: mixture of p2 and p3"
   ]
  },
  {
   "cell_type": "code",
   "execution_count": 387,
   "metadata": {},
   "outputs": [
    {
     "data": {
      "text/html": [
       "<div>\n",
       "<style scoped>\n",
       "    .dataframe tbody tr th:only-of-type {\n",
       "        vertical-align: middle;\n",
       "    }\n",
       "\n",
       "    .dataframe tbody tr th {\n",
       "        vertical-align: top;\n",
       "    }\n",
       "\n",
       "    .dataframe thead th {\n",
       "        text-align: right;\n",
       "    }\n",
       "</style>\n",
       "<table border=\"1\" class=\"dataframe\">\n",
       "  <thead>\n",
       "    <tr style=\"text-align: right;\">\n",
       "      <th></th>\n",
       "      <th>0</th>\n",
       "      <th>1</th>\n",
       "      <th>2</th>\n",
       "      <th>3</th>\n",
       "      <th>4</th>\n",
       "      <th>5</th>\n",
       "      <th>6</th>\n",
       "      <th>7</th>\n",
       "      <th>8</th>\n",
       "      <th>9</th>\n",
       "      <th>...</th>\n",
       "      <th>1014</th>\n",
       "      <th>1015</th>\n",
       "      <th>1016</th>\n",
       "      <th>1017</th>\n",
       "      <th>1018</th>\n",
       "      <th>1019</th>\n",
       "      <th>1020</th>\n",
       "      <th>1021</th>\n",
       "      <th>1022</th>\n",
       "      <th>1023</th>\n",
       "    </tr>\n",
       "  </thead>\n",
       "  <tbody>\n",
       "    <tr>\n",
       "      <td>p1</td>\n",
       "      <td>-1</td>\n",
       "      <td>-1</td>\n",
       "      <td>-1</td>\n",
       "      <td>-1</td>\n",
       "      <td>-1</td>\n",
       "      <td>-1</td>\n",
       "      <td>-1</td>\n",
       "      <td>-1</td>\n",
       "      <td>-1</td>\n",
       "      <td>-1</td>\n",
       "      <td>...</td>\n",
       "      <td>-1</td>\n",
       "      <td>-1</td>\n",
       "      <td>1</td>\n",
       "      <td>-1</td>\n",
       "      <td>-1</td>\n",
       "      <td>1</td>\n",
       "      <td>-1</td>\n",
       "      <td>-1</td>\n",
       "      <td>-1</td>\n",
       "      <td>-1</td>\n",
       "    </tr>\n",
       "    <tr>\n",
       "      <td>p2</td>\n",
       "      <td>-1</td>\n",
       "      <td>-1</td>\n",
       "      <td>-1</td>\n",
       "      <td>-1</td>\n",
       "      <td>-1</td>\n",
       "      <td>-1</td>\n",
       "      <td>-1</td>\n",
       "      <td>-1</td>\n",
       "      <td>-1</td>\n",
       "      <td>-1</td>\n",
       "      <td>...</td>\n",
       "      <td>1</td>\n",
       "      <td>-1</td>\n",
       "      <td>-1</td>\n",
       "      <td>-1</td>\n",
       "      <td>-1</td>\n",
       "      <td>-1</td>\n",
       "      <td>-1</td>\n",
       "      <td>-1</td>\n",
       "      <td>-1</td>\n",
       "      <td>-1</td>\n",
       "    </tr>\n",
       "    <tr>\n",
       "      <td>p3</td>\n",
       "      <td>1</td>\n",
       "      <td>1</td>\n",
       "      <td>1</td>\n",
       "      <td>1</td>\n",
       "      <td>1</td>\n",
       "      <td>1</td>\n",
       "      <td>1</td>\n",
       "      <td>1</td>\n",
       "      <td>1</td>\n",
       "      <td>1</td>\n",
       "      <td>...</td>\n",
       "      <td>1</td>\n",
       "      <td>1</td>\n",
       "      <td>1</td>\n",
       "      <td>1</td>\n",
       "      <td>1</td>\n",
       "      <td>1</td>\n",
       "      <td>1</td>\n",
       "      <td>1</td>\n",
       "      <td>1</td>\n",
       "      <td>1</td>\n",
       "    </tr>\n",
       "    <tr>\n",
       "      <td>p4</td>\n",
       "      <td>1</td>\n",
       "      <td>1</td>\n",
       "      <td>1</td>\n",
       "      <td>1</td>\n",
       "      <td>1</td>\n",
       "      <td>1</td>\n",
       "      <td>1</td>\n",
       "      <td>1</td>\n",
       "      <td>1</td>\n",
       "      <td>1</td>\n",
       "      <td>...</td>\n",
       "      <td>1</td>\n",
       "      <td>1</td>\n",
       "      <td>1</td>\n",
       "      <td>1</td>\n",
       "      <td>1</td>\n",
       "      <td>1</td>\n",
       "      <td>1</td>\n",
       "      <td>1</td>\n",
       "      <td>1</td>\n",
       "      <td>1</td>\n",
       "    </tr>\n",
       "    <tr>\n",
       "      <td>p5</td>\n",
       "      <td>1</td>\n",
       "      <td>1</td>\n",
       "      <td>1</td>\n",
       "      <td>1</td>\n",
       "      <td>1</td>\n",
       "      <td>1</td>\n",
       "      <td>1</td>\n",
       "      <td>1</td>\n",
       "      <td>1</td>\n",
       "      <td>1</td>\n",
       "      <td>...</td>\n",
       "      <td>1</td>\n",
       "      <td>1</td>\n",
       "      <td>1</td>\n",
       "      <td>1</td>\n",
       "      <td>1</td>\n",
       "      <td>1</td>\n",
       "      <td>1</td>\n",
       "      <td>1</td>\n",
       "      <td>1</td>\n",
       "      <td>1</td>\n",
       "    </tr>\n",
       "  </tbody>\n",
       "</table>\n",
       "<p>5 rows × 1024 columns</p>\n",
       "</div>"
      ],
      "text/plain": [
       "    0     1     2     3     4     5     6     7     8     9     ...  1014  \\\n",
       "p1    -1    -1    -1    -1    -1    -1    -1    -1    -1    -1  ...    -1   \n",
       "p2    -1    -1    -1    -1    -1    -1    -1    -1    -1    -1  ...     1   \n",
       "p3     1     1     1     1     1     1     1     1     1     1  ...     1   \n",
       "p4     1     1     1     1     1     1     1     1     1     1  ...     1   \n",
       "p5     1     1     1     1     1     1     1     1     1     1  ...     1   \n",
       "\n",
       "    1015  1016  1017  1018  1019  1020  1021  1022  1023  \n",
       "p1    -1     1    -1    -1     1    -1    -1    -1    -1  \n",
       "p2    -1    -1    -1    -1    -1    -1    -1    -1    -1  \n",
       "p3     1     1     1     1     1     1     1     1     1  \n",
       "p4     1     1     1     1     1     1     1     1     1  \n",
       "p5     1     1     1     1     1     1     1     1     1  \n",
       "\n",
       "[5 rows x 1024 columns]"
      ]
     },
     "execution_count": 387,
     "metadata": {},
     "output_type": "execute_result"
    }
   ],
   "source": [
    "values = pd.read_csv(data_set_path + 'pict.dat', \n",
    "                 sep=\",\", \n",
    "                 header=None).values.reshape((11,1024))\n",
    "\n",
    "df_pict = pd.DataFrame(values, index = ['p1','p2','p3','p4','p5','p6','p7','p8','p9','p10','p11'])\n",
    "df_pict.head()"
   ]
  },
  {
   "cell_type": "markdown",
   "metadata": {},
   "source": [
    "---\n",
    "Check that the first three patterns are stable\n",
    "\n",
    "- The three patterns are stable"
   ]
  },
  {
   "cell_type": "code",
   "execution_count": 392,
   "metadata": {},
   "outputs": [],
   "source": [
    "p1 = df_pict.loc['p1'].values.reshape((1,1024))\n",
    "p2 = df_pict.loc['p2'].values.reshape((1,1024))\n",
    "p3 = df_pict.loc['p3'].values.reshape((1,1024))\n",
    "p4 = df_pict.loc['p4'].values.reshape((1,1024))\n",
    "p5 = df_pict.loc['p5'].values.reshape((1,1024))\n",
    "p6 = df_pict.loc['p6'].values.reshape((1,1024))\n",
    "p7 = df_pict.loc['p7'].values.reshape((1,1024))\n",
    "p8 = df_pict.loc['p8'].values.reshape((1,1024))\n",
    "p9 = df_pict.loc['p9'].values.reshape((1,1024))\n",
    "p10 = df_pict.loc['p10'].values.reshape((1,1024))\n",
    "p11 = df_pict.loc['p11'].values.reshape((1,1024))\n",
    "\n",
    "pict_123 = np.vstack((p1,p2,p3))\n",
    "\n",
    "hopfield_net_pict = Hopfield_Network()\n",
    "hopfield_net_pict.fit(pict_123) # give first three patterns"
   ]
  },
  {
   "cell_type": "code",
   "execution_count": 393,
   "metadata": {},
   "outputs": [
    {
     "name": "stdout",
     "output_type": "stream",
     "text": [
      "True\n",
      "True\n",
      "True\n"
     ]
    }
   ],
   "source": [
    "recall_p1 = hopfield_net_pict.recall(p1,num_updates=1)\n",
    "recall_p2 = hopfield_net_pict.recall(p2,num_updates=1)\n",
    "recall_p3 = hopfield_net_pict.recall(p3,num_updates=1)\n",
    "\n",
    "print(np.array_equal(recall_p1, p1))\n",
    "print(np.array_equal(recall_p2, p2))\n",
    "print(np.array_equal(recall_p3, p3))"
   ]
  },
  {
   "cell_type": "markdown",
   "metadata": {},
   "source": [
    "---\n",
    "Can the network complete a degraded pattern? Try the pattern p10, which\n",
    "is a degraded version of p1, or p11 which is a mixture of p2 and p3:\n",
    "\n",
    "- p10: can be restored to p1\n",
    "- p11: can't be restored to either p2 or p3 --> doesn't converge"
   ]
  },
  {
   "cell_type": "code",
   "execution_count": 394,
   "metadata": {},
   "outputs": [
    {
     "name": "stdout",
     "output_type": "stream",
     "text": [
      "Pattern p1 (original) and p10 (distortion of p1):\n"
     ]
    },
    {
     "data": {
      "text/plain": [
       "<matplotlib.axes._subplots.AxesSubplot at 0x1a346152d0>"
      ]
     },
     "execution_count": 394,
     "metadata": {},
     "output_type": "execute_result"
    },
    {
     "data": {
      "image/png": "[encoded data removed]",
      "text/plain": [
       "<Figure size 864x288 with 4 Axes>"
      ]
     },
     "metadata": {},
     "output_type": "display_data"
    }
   ],
   "source": [
    "p1_img = p1[0].reshape((32,32))\n",
    "p2_img = p2[0].reshape((32,32))\n",
    "p3_img = p3[0].reshape((32,32))\n",
    "p10_img = p10[0].reshape((32,32))\n",
    "p11_img = p11[0].reshape((32,32))\n",
    "\n",
    "print(\"Pattern p1 (original) and p10 (distortion of p1):\")\n",
    "f, axes = plt.subplots(1, 2)\n",
    "f.set_figheight(4)\n",
    "f.set_figwidth(12)\n",
    "sns.heatmap(p1_img, ax=axes[0])\n",
    "sns.heatmap(p10_img, ax=axes[1])"
   ]
  },
  {
   "cell_type": "code",
   "execution_count": 395,
   "metadata": {},
   "outputs": [
    {
     "name": "stdout",
     "output_type": "stream",
     "text": [
      "Pattern p10 (distortion of p1) after recall (batch):\n"
     ]
    },
    {
     "data": {
      "text/plain": [
       "<matplotlib.axes._subplots.AxesSubplot at 0x1a2cd79d90>"
      ]
     },
     "execution_count": 395,
     "metadata": {},
     "output_type": "execute_result"
    },
    {
     "data": {
      "image/png": "[encoded data removed]",
      "text/plain": [
       "<Figure size 432x288 with 2 Axes>"
      ]
     },
     "metadata": {},
     "output_type": "display_data"
    }
   ],
   "source": [
    "p10_recall = hopfield_net_pict.recall(p10,num_updates=1)\n",
    "p10_recall_img = p10_recall[0].reshape((32,32))\n",
    "\n",
    "print(\"Pattern p10 (distortion of p1) after recall (batch):\")\n",
    "sns.heatmap(p10_recall_img)"
   ]
  },
  {
   "cell_type": "code",
   "execution_count": 396,
   "metadata": {},
   "outputs": [
    {
     "name": "stdout",
     "output_type": "stream",
     "text": [
      "Pattern p2 (original), p3 (original), p11 (distorted: mixture of p2 and p3):\n"
     ]
    },
    {
     "data": {
      "text/plain": [
       "<matplotlib.axes._subplots.AxesSubplot at 0x1a347041d0>"
      ]
     },
     "execution_count": 396,
     "metadata": {},
     "output_type": "execute_result"
    },
    {
     "data": {
      "image/png": "[encoded data removed]",
      "text/plain": [
       "<Figure size 1800x360 with 6 Axes>"
      ]
     },
     "metadata": {},
     "output_type": "display_data"
    }
   ],
   "source": [
    "print(\"Pattern p2 (original), p3 (original), p11 (distorted: mixture of p2 and p3):\")\n",
    "\n",
    "f, axes = plt.subplots(1, 3)\n",
    "f.set_figheight(5)\n",
    "f.set_figwidth(25)\n",
    "sns.heatmap(p2_img, ax=axes[0])\n",
    "sns.heatmap(p3_img, ax=axes[1])\n",
    "sns.heatmap(p11_img, ax=axes[2])"
   ]
  },
  {
   "cell_type": "code",
   "execution_count": 400,
   "metadata": {},
   "outputs": [
    {
     "name": "stdout",
     "output_type": "stream",
     "text": [
      "Pattern p11 (distortion of p2 and p3) after recall (batch):\n"
     ]
    },
    {
     "data": {
      "text/plain": [
       "<matplotlib.axes._subplots.AxesSubplot at 0x1a35912990>"
      ]
     },
     "execution_count": 400,
     "metadata": {},
     "output_type": "execute_result"
    },
    {
     "data": {
      "image/png": "[encoded data removed]",
      "text/plain": [
       "<Figure size 432x288 with 2 Axes>"
      ]
     },
     "metadata": {},
     "output_type": "display_data"
    }
   ],
   "source": [
    "p11_recall = hopfield_net_pict.recall(p11,num_updates=15)\n",
    "p11_recall_img = p11_recall[0].reshape((32,32))\n",
    "\n",
    "print(\"Pattern p11 (distortion of p2 and p3) after recall (batch):\")\n",
    "sns.heatmap(p11_recall_img)"
   ]
  },
  {
   "cell_type": "markdown",
   "metadata": {},
   "source": [
    "---\n",
    "Clearly convergence is practically instantaneous. What happens if we\n",
    "select units randomly? Please calculate their new state and then repeat the\n",
    "process in the spirit of the original sequential Hopfield dynamics. Please\n",
    "demonstrate the image every hundredth iteration or so.\n",
    "\n",
    "- p10: Converges\n",
    "- p11: Converges\n",
    "- Both distorted patterns converge, but require a lot iterations (>3000), since units get picked randomly"
   ]
  },
  {
   "cell_type": "code",
   "execution_count": 401,
   "metadata": {},
   "outputs": [
    {
     "name": "stdout",
     "output_type": "stream",
     "text": [
      "Pattern p10 (distortion of p1) after recall (sequential):\n"
     ]
    },
    {
     "data": {
      "text/plain": [
       "<matplotlib.axes._subplots.AxesSubplot at 0x1a3c3127d0>"
      ]
     },
     "execution_count": 401,
     "metadata": {},
     "output_type": "execute_result"
    },
    {
     "data": {
      "image/png": "[encoded data removed]",
      "text/plain": [
       "<Figure size 432x288 with 2 Axes>"
      ]
     },
     "metadata": {},
     "output_type": "display_data"
    }
   ],
   "source": [
    "p10_recall_seq = hopfield_net_pict.recall_sequential_random(p10,num_updates=4000)\n",
    "p10_recall_seq_img = p10_recall_seq[0].reshape((32,32))\n",
    "#print(np.array_equal(p10_recall_seq,p10))\n",
    "\n",
    "print(\"Pattern p10 (distortion of p1) after recall (sequential):\")\n",
    "sns.heatmap(p10_recall_seq_img)"
   ]
  },
  {
   "cell_type": "code",
   "execution_count": 402,
   "metadata": {},
   "outputs": [
    {
     "name": "stdout",
     "output_type": "stream",
     "text": [
      "Pattern p11 (distortion of p2 and p3) after recall (sequential):\n"
     ]
    },
    {
     "data": {
      "text/plain": [
       "<matplotlib.axes._subplots.AxesSubplot at 0x1a3c55f590>"
      ]
     },
     "execution_count": 402,
     "metadata": {},
     "output_type": "execute_result"
    },
    {
     "data": {
      "image/png": "[encoded data removed]",
      "text/plain": [
       "<Figure size 432x288 with 2 Axes>"
      ]
     },
     "metadata": {},
     "output_type": "display_data"
    }
   ],
   "source": [
    "p11_recall_seq = hopfield_net_pict.recall_sequential_random(p11,num_updates=5000)\n",
    "p11_recall_seq_img = p11_recall_seq[0].reshape((32,32))\n",
    "\n",
    "print(\"Pattern p11 (distortion of p2 and p3) after recall (sequential):\")\n",
    "sns.heatmap(p11_recall_seq_img)"
   ]
  },
  {
   "cell_type": "markdown",
   "metadata": {},
   "source": [
    "## 3.3 Energy"
   ]
  },
  {
   "cell_type": "markdown",
   "metadata": {},
   "source": [
    "What is the energy at the different attractors?\n",
    "\n",
    "- Energy at attractor p1: -1436.390625\n",
    "- Energy at attractor p2: -1362.640625\n",
    "- Energy at attractor p3: -1459.25"
   ]
  },
  {
   "cell_type": "code",
   "execution_count": 125,
   "metadata": {},
   "outputs": [],
   "source": [
    "hopfield_net_energy = Hopfield_Network()\n",
    "hopfield_net_energy.fit(pict_123) # give first three patterns"
   ]
  },
  {
   "cell_type": "code",
   "execution_count": 130,
   "metadata": {},
   "outputs": [
    {
     "name": "stdout",
     "output_type": "stream",
     "text": [
      "Energy p1:  -1436.390625\n",
      "Energy p2:  -1362.640625\n",
      "Energy p3:  -1459.25\n"
     ]
    }
   ],
   "source": [
    "energy_p1 = hopfield_net_energy.energy_function(p1)\n",
    "energy_p2 = hopfield_net_energy.energy_function(p2)\n",
    "energy_p3 = hopfield_net_energy.energy_function(p3)\n",
    "\n",
    "print(\"Energy p1: \",energy_p1)\n",
    "print(\"Energy p2: \",energy_p2)\n",
    "print(\"Energy p3: \",energy_p3)"
   ]
  },
  {
   "cell_type": "markdown",
   "metadata": {},
   "source": [
    "---\n",
    "What is the energy at the points of the distorted patterns?\n",
    "\n",
    "- Energy at attractor p10: -412.98046875\n",
    "- Energy at attractor p11: -170.5"
   ]
  },
  {
   "cell_type": "code",
   "execution_count": 131,
   "metadata": {},
   "outputs": [
    {
     "name": "stdout",
     "output_type": "stream",
     "text": [
      "Energy p10:  -412.98046875\n",
      "Energy p11:  -170.5\n"
     ]
    }
   ],
   "source": [
    "energy_p10 = hopfield_net_energy.energy_function(p10)\n",
    "energy_p11 = hopfield_net_energy.energy_function(p11)\n",
    "\n",
    "print(\"Energy p10: \",energy_p10)\n",
    "print(\"Energy p11: \",energy_p11)"
   ]
  },
  {
   "cell_type": "markdown",
   "metadata": {},
   "source": [
    "---\n",
    "Follow how the energy changes from iteration to iteration when you use\n",
    "the sequential update rule to approach an attractor.\n",
    "\n",
    "- The energy steadily decreases from -412.98 (iter=0) to -1412.16 (iter=1000)"
   ]
  },
  {
   "cell_type": "code",
   "execution_count": 142,
   "metadata": {},
   "outputs": [
    {
     "name": "stdout",
     "output_type": "stream",
     "text": [
      "Pattern p10 (distortion of p1) after recall (sequential):\n",
      "[-412.98046875, -509.578125, -581.35546875, -644.890625, -739.421875, -811.71875, -888.26171875, -979.88671875, -1140.01171875, -1271.76171875, -1412.16796875, -1436.390625, -1436.390625, -1436.390625]\n"
     ]
    },
    {
     "data": {
      "image/png": "[encoded data removed]",
      "text/plain": [
       "<Figure size 432x288 with 2 Axes>"
      ]
     },
     "metadata": {},
     "output_type": "display_data"
    }
   ],
   "source": [
    "p10_recall_seq_det, energy_progress = hopfield_net_energy.recall_sequential_determined(p10,num_updates=1400, ordering=\"shuffled\")\n",
    "p10_recall_seq_det_img = p10_recall_seq_det[0].reshape((32,32))\n",
    "\n",
    "print(\"Pattern p10 (distortion of p1) after recall (sequential):\")\n",
    "sns.heatmap(p10_recall_seq_det_img)\n",
    "print(energy_progress)"
   ]
  },
  {
   "cell_type": "code",
   "execution_count": 144,
   "metadata": {},
   "outputs": [
    {
     "name": "stdout",
     "output_type": "stream",
     "text": [
      "Progress of energy after every 100 iteration:\n"
     ]
    },
    {
     "data": {
      "text/plain": [
       "Text(0.5, 1.0, 'Progress of energy function')"
      ]
     },
     "execution_count": 144,
     "metadata": {},
     "output_type": "execute_result"
    },
    {
     "data": {
      "image/png": "[encoded data removed]",
      "text/plain": [
       "<Figure size 432x288 with 1 Axes>"
      ]
     },
     "metadata": {},
     "output_type": "display_data"
    }
   ],
   "source": [
    "print(\"Progress of energy after every 100 iteration:\")\n",
    "x_axis = np.arange(0, 1400, 100)\n",
    "y_axis = energy_progress\n",
    "\n",
    "plt.plot(x_axis, y_axis,'r', label=\"energy function\")\n",
    "plt.xlabel(\"x\")\n",
    "plt.ylabel(\"y\")\n",
    "plt.title(\"Progress of energy function\")\n",
    "#plt.legend()"
   ]
  },
  {
   "cell_type": "markdown",
   "metadata": {},
   "source": [
    "---\n",
    "Generate a weight matrix by setting the weights to normally distributed\n",
    "random numbers, and try iterating an arbitrary starting state. What\n",
    "happens?\n",
    "\n",
    "- The network doesn't converge. The energy is jumping back and forth."
   ]
  },
  {
   "cell_type": "code",
   "execution_count": 180,
   "metadata": {},
   "outputs": [],
   "source": [
    "weight_matrix_asym = np.random.normal(0,1,(p1.shape[1],p1.shape[1]))\n",
    "weight_matrix_sym = 0.5 * (weight_matrix_asym + weight_matrix_asym.T)\n",
    "\n",
    "for i in range(len(p1[0])): # set the diagonal to zero\n",
    "    weight_matrix_asym[i][i] = 0\n",
    "    weight_matrix_sym[i][i] = 0"
   ]
  },
  {
   "cell_type": "code",
   "execution_count": 181,
   "metadata": {},
   "outputs": [],
   "source": [
    "hopfield_net_manual_weights_asym = Hopfield_Network(weight_matrix_asym) # Not fit() because we set the weights manually"
   ]
  },
  {
   "cell_type": "code",
   "execution_count": 182,
   "metadata": {},
   "outputs": [
    {
     "name": "stdout",
     "output_type": "stream",
     "text": [
      "Pattern p10 (distortion of p1) after recall (sequential) with manually set asymmetric weights:\n"
     ]
    },
    {
     "data": {
      "text/plain": [
       "<matplotlib.axes._subplots.AxesSubplot at 0x1a2dc24d10>"
      ]
     },
     "execution_count": 182,
     "metadata": {},
     "output_type": "execute_result"
    },
    {
     "data": {
      "image/png": "[encoded data removed]",
      "text/plain": [
       "<Figure size 432x288 with 2 Axes>"
      ]
     },
     "metadata": {},
     "output_type": "display_data"
    }
   ],
   "source": [
    "p10_recall, energy_progress = hopfield_net_manual_weights_asym.recall_sequential_determined(p10,num_updates=4000)\n",
    "p10_recall_img = p10_recall[0].reshape((32,32))\n",
    "\n",
    "print(\"Pattern p10 (distortion of p1) after recall (sequential) with manually set asymmetric weights:\")\n",
    "sns.heatmap(p10_recall_img)\n",
    "#print(energy_progress)"
   ]
  },
  {
   "cell_type": "code",
   "execution_count": 183,
   "metadata": {
    "scrolled": true
   },
   "outputs": [
    {
     "name": "stdout",
     "output_type": "stream",
     "text": [
      "Progress of energy after every 100 iteration:\n"
     ]
    },
    {
     "data": {
      "text/plain": [
       "Text(0.5, 1.0, 'Progress of energy function')"
      ]
     },
     "execution_count": 183,
     "metadata": {},
     "output_type": "execute_result"
    },
    {
     "data": {
      "image/png": "[encoded data removed]",
      "text/plain": [
       "<Figure size 432x288 with 1 Axes>"
      ]
     },
     "metadata": {},
     "output_type": "display_data"
    }
   ],
   "source": [
    "print(\"Progress of energy after every 100 iteration:\")\n",
    "x_axis = np.arange(0, 4000, 100)\n",
    "y_axis = energy_progress\n",
    "\n",
    "plt.plot(x_axis, y_axis,'r', label=\"energy function\")\n",
    "plt.xlabel(\"x\")\n",
    "plt.ylabel(\"y\")\n",
    "plt.title(\"Progress of energy function\")\n",
    "#plt.legend()"
   ]
  },
  {
   "cell_type": "markdown",
   "metadata": {},
   "source": [
    "---\n",
    "Make the weight matrix symmetric (e.g. by setting w=0.5*(w+w')). What\n",
    "happens now? Why?\n",
    "\n",
    "- The network converges, since the energy is converging"
   ]
  },
  {
   "cell_type": "code",
   "execution_count": 184,
   "metadata": {},
   "outputs": [],
   "source": [
    "hopfield_net_manual_weights_sym = Hopfield_Network(weight_matrix_sym) # Not fit() because we set the weights manually"
   ]
  },
  {
   "cell_type": "code",
   "execution_count": 185,
   "metadata": {},
   "outputs": [
    {
     "name": "stdout",
     "output_type": "stream",
     "text": [
      "Pattern p10 (distortion of p1) after recall (sequential) with manually set symmetric weights:\n"
     ]
    },
    {
     "data": {
      "text/plain": [
       "<matplotlib.axes._subplots.AxesSubplot at 0x1a255bcf10>"
      ]
     },
     "execution_count": 185,
     "metadata": {},
     "output_type": "execute_result"
    },
    {
     "data": {
      "image/png": "[encoded data removed]",
      "text/plain": [
       "<Figure size 432x288 with 2 Axes>"
      ]
     },
     "metadata": {},
     "output_type": "display_data"
    }
   ],
   "source": [
    "p10_recall, energy_progress = hopfield_net_manual_weights_sym.recall_sequential_determined(p10,num_updates=4000)\n",
    "p10_recall_img = p10_recall[0].reshape((32,32))\n",
    "\n",
    "print(\"Pattern p10 (distortion of p1) after recall (sequential) with manually set symmetric weights:\")\n",
    "sns.heatmap(p10_recall_img)\n",
    "#print(energy_progress)"
   ]
  },
  {
   "cell_type": "code",
   "execution_count": 186,
   "metadata": {},
   "outputs": [
    {
     "name": "stdout",
     "output_type": "stream",
     "text": [
      "Progress of energy after every 100 iteration:\n"
     ]
    },
    {
     "data": {
      "text/plain": [
       "Text(0.5, 1.0, 'Progress of energy function')"
      ]
     },
     "execution_count": 186,
     "metadata": {},
     "output_type": "execute_result"
    },
    {
     "data": {
      "image/png": "[encoded data removed]",
      "text/plain": [
       "<Figure size 432x288 with 1 Axes>"
      ]
     },
     "metadata": {},
     "output_type": "display_data"
    }
   ],
   "source": [
    "print(\"Progress of energy after every 100 iteration:\")\n",
    "x_axis = np.arange(0, 4000, 100)\n",
    "y_axis = energy_progress\n",
    "\n",
    "plt.plot(x_axis, y_axis,'r', label=\"energy function\")\n",
    "plt.xlabel(\"x\")\n",
    "plt.ylabel(\"y\")\n",
    "plt.title(\"Progress of energy function\")\n",
    "#plt.legend()"
   ]
  },
  {
   "cell_type": "markdown",
   "metadata": {},
   "source": [
    "## 3.4 Distortion Resistance"
   ]
  },
  {
   "cell_type": "markdown",
   "metadata": {},
   "source": [
    "How much noise can be removed?\n",
    "\n",
    "- We distorted p1. Since we flip binary values we kind of mirror at flipping_ratio=0.5. So flipping_ratio=0.3 is like flipping_ratio=0.7 but just opposite values.\n",
    "- Almost up to flipping_ratio=0.25 the noise could be removed"
   ]
  },
  {
   "cell_type": "code",
   "execution_count": 403,
   "metadata": {},
   "outputs": [],
   "source": [
    "hopfield_net_dist = Hopfield_Network()\n",
    "hopfield_net_dist.fit(pict_123)"
   ]
  },
  {
   "cell_type": "code",
   "execution_count": 412,
   "metadata": {},
   "outputs": [
    {
     "name": "stdout",
     "output_type": "stream",
     "text": [
      "Distorted picture:\n"
     ]
    },
    {
     "data": {
      "text/plain": [
       "<matplotlib.axes._subplots.AxesSubplot at 0x1a3dbbc7d0>"
      ]
     },
     "execution_count": 412,
     "metadata": {},
     "output_type": "execute_result"
    },
    {
     "data": {
      "image/png": "[encoded data removed]",
      "text/plain": [
       "<Figure size 432x288 with 2 Axes>"
      ]
     },
     "metadata": {},
     "output_type": "display_data"
    }
   ],
   "source": [
    "# Create distorted patterns by yourself:\n",
    "p1_dist = hopfield_net_dist.create_distortion(p1,flipping_ratio=0.3)\n",
    "p1_dist_img = p1_dist[0].reshape((32,32))\n",
    "\n",
    "# Calculate distortion ratio\n",
    "dist_ratio = hopfield_net_dist.calculate_distortion_ratio(p1,p1_dist)\n",
    "\n",
    "print(\"Distorted picture:\")\n",
    "sns.heatmap(p1_dist_img)\n"
   ]
  },
  {
   "cell_type": "code",
   "execution_count": 413,
   "metadata": {},
   "outputs": [
    {
     "data": {
      "text/plain": [
       "<matplotlib.axes._subplots.AxesSubplot at 0x1a3dcc6210>"
      ]
     },
     "execution_count": 413,
     "metadata": {},
     "output_type": "execute_result"
    },
    {
     "data": {
      "image/png": "[encoded data removed]",
      "text/plain": [
       "<Figure size 432x288 with 2 Axes>"
      ]
     },
     "metadata": {},
     "output_type": "display_data"
    }
   ],
   "source": [
    "p1_dist_recall = hopfield_net_dist.recall(p1_dist,num_updates=1)\n",
    "p1_dist_recall_img = p1_dist_recall[0].reshape((32,32))\n",
    "\n",
    "sns.heatmap(p1_dist_recall_img)"
   ]
  },
  {
   "cell_type": "markdown",
   "metadata": {},
   "source": [
    "---\n",
    "Is there any difference between the three attractors with regard to noise\n",
    "tolerance?\n",
    "\n",
    "- p1: up to flipping_ratio=0.25\n",
    "- p2: up to flipping_ratio=0.42\n",
    "- p3: up to flipping_ratio=0.46"
   ]
  },
  {
   "cell_type": "code",
   "execution_count": 414,
   "metadata": {},
   "outputs": [],
   "source": [
    "# Create distorted patterns by yourself:\n",
    "p2_dist = hopfield_net_dist.create_distortion(p2,flipping_ratio=0.42)\n",
    "p3_dist = hopfield_net_dist.create_distortion(p3,flipping_ratio=0.48)\n",
    "\n",
    "p2_dist_img = p2_dist[0].reshape((32,32))\n",
    "p3_dist_img = p3_dist[0].reshape((32,32))"
   ]
  },
  {
   "cell_type": "code",
   "execution_count": 415,
   "metadata": {},
   "outputs": [
    {
     "name": "stdout",
     "output_type": "stream",
     "text": [
      "Pattern p10 (distortion of p1) after recall (batch):\n"
     ]
    },
    {
     "data": {
      "text/plain": [
       "<matplotlib.axes._subplots.AxesSubplot at 0x1a3de1ba10>"
      ]
     },
     "execution_count": 415,
     "metadata": {},
     "output_type": "execute_result"
    },
    {
     "data": {
      "image/png": "[encoded data removed]",
      "text/plain": [
       "<Figure size 432x288 with 2 Axes>"
      ]
     },
     "metadata": {},
     "output_type": "display_data"
    }
   ],
   "source": [
    "p2_dist_recall = hopfield_net_dist.recall(p2_dist,num_updates=1)\n",
    "p2_dist_recall_img = p2_dist_recall[0].reshape((32,32))\n",
    "\n",
    "print(\"Pattern p10 (distortion of p1) after recall (batch):\")\n",
    "sns.heatmap(p2_dist_recall_img)"
   ]
  },
  {
   "cell_type": "code",
   "execution_count": 418,
   "metadata": {},
   "outputs": [
    {
     "name": "stdout",
     "output_type": "stream",
     "text": [
      "Pattern p10 (distortion of p1) after recall (batch):\n"
     ]
    },
    {
     "data": {
      "text/plain": [
       "<matplotlib.axes._subplots.AxesSubplot at 0x1a3e1b8ad0>"
      ]
     },
     "execution_count": 418,
     "metadata": {},
     "output_type": "execute_result"
    },
    {
     "data": {
      "image/png": "[encoded data removed]",
      "text/plain": [
       "<Figure size 432x288 with 2 Axes>"
      ]
     },
     "metadata": {},
     "output_type": "display_data"
    }
   ],
   "source": [
    "p3_dist_recall = hopfield_net_dist.recall(p3_dist,num_updates=100)\n",
    "p3_dist_recall_img = p3_dist_recall[0].reshape((32,32))\n",
    "\n",
    "print(\"Pattern p10 (distortion of p1) after recall (batch):\")\n",
    "sns.heatmap(p3_dist_recall_img)"
   ]
  },
  {
   "cell_type": "markdown",
   "metadata": {},
   "source": [
    "---\n",
    "Does the network always converge to the right attractor? Do the extra\n",
    "iterations (beyond a single-step recall) help? Do you notice any other\n",
    "attractors?\n",
    "\n",
    "- No, the network does not always converge to the right attractor.\n",
    "- Network converges to not trained patterns.\n",
    "- Extra iterations doesn't help"
   ]
  },
  {
   "cell_type": "code",
   "execution_count": null,
   "metadata": {},
   "outputs": [],
   "source": []
  },
  {
   "cell_type": "markdown",
   "metadata": {},
   "source": [
    "## 3.5 Capacity"
   ]
  },
  {
   "cell_type": "markdown",
   "metadata": {},
   "source": [
    "How many patterns could safely be stored? Was the drop in performance\n",
    "gradual or abrupt?\n",
    "\n",
    "- 3 can be stored safely\n",
    "- with 4 it already doesn't converge and see the misclassification\n",
    "- with more added patterns it gets more and more worse"
   ]
  },
  {
   "cell_type": "code",
   "execution_count": 363,
   "metadata": {},
   "outputs": [],
   "source": [
    "hopfield_net_cap = Hopfield_Network()\n",
    "\n",
    "pict_merge = np.vstack((p1,p2,p3,p4,p5,p6))\n",
    "\n",
    "hopfield_net_cap.fit(pict_merge)"
   ]
  },
  {
   "cell_type": "code",
   "execution_count": 364,
   "metadata": {},
   "outputs": [
    {
     "name": "stdout",
     "output_type": "stream",
     "text": [
      "Distorted picture:\n"
     ]
    },
    {
     "data": {
      "text/plain": [
       "<matplotlib.axes._subplots.AxesSubplot at 0x1a407e1050>"
      ]
     },
     "execution_count": 364,
     "metadata": {},
     "output_type": "execute_result"
    },
    {
     "data": {
      "image/png": "[encoded data removed]",
      "text/plain": [
       "<Figure size 432x288 with 2 Axes>"
      ]
     },
     "metadata": {},
     "output_type": "display_data"
    }
   ],
   "source": [
    "p1_dist = hopfield_net_cap.create_distortion(p1,flipping_ratio=0.05)\n",
    "p1_dist_img = p1_dist[0].reshape((32,32))\n",
    "\n",
    "print(\"Distorted picture:\")\n",
    "sns.heatmap(p1_dist_img)"
   ]
  },
  {
   "cell_type": "code",
   "execution_count": 365,
   "metadata": {},
   "outputs": [
    {
     "name": "stdout",
     "output_type": "stream",
     "text": [
      "Pattern after recall (batch):\n"
     ]
    },
    {
     "data": {
      "text/plain": [
       "<matplotlib.axes._subplots.AxesSubplot at 0x1a34b717d0>"
      ]
     },
     "execution_count": 365,
     "metadata": {},
     "output_type": "execute_result"
    },
    {
     "data": {
      "image/png": "[encoded data removed]",
      "text/plain": [
       "<Figure size 432x288 with 2 Axes>"
      ]
     },
     "metadata": {},
     "output_type": "display_data"
    }
   ],
   "source": [
    "p1_dist_recall = hopfield_net_cap.recall(p1_dist,num_updates=2)\n",
    "p1_dist_recall_img = p1_dist_recall[0].reshape((32,32))\n",
    "\n",
    "print(\"Pattern after recall (batch):\")\n",
    "sns.heatmap(p1_dist_recall_img)"
   ]
  },
  {
   "cell_type": "markdown",
   "metadata": {},
   "source": [
    "---\n",
    "Try to repeat this with learning a few random patterns instead of the\n",
    "pictures and see if you can store more.\n",
    "\n",
    "- ..."
   ]
  },
  {
   "cell_type": "code",
   "execution_count": null,
   "metadata": {},
   "outputs": [],
   "source": []
  },
  {
   "cell_type": "markdown",
   "metadata": {},
   "source": [
    "---\n",
    "It has been shown that the capacity of a Hopfield network is around\n",
    "0.138N. How do you explain the difference between random patterns\n",
    "and the pictures?\n",
    "\n",
    "- ..."
   ]
  },
  {
   "cell_type": "code",
   "execution_count": null,
   "metadata": {},
   "outputs": [],
   "source": []
  },
  {
   "cell_type": "markdown",
   "metadata": {},
   "source": [
    "---\n",
    "What happens with the number of stable patterns as more are learned?\n",
    "\n",
    "- ..."
   ]
  },
  {
   "cell_type": "code",
   "execution_count": null,
   "metadata": {},
   "outputs": [],
   "source": []
  },
  {
   "cell_type": "markdown",
   "metadata": {},
   "source": [
    "---\n",
    "What happens if convergence to the pattern from a noisy version (a few\n",
    "flipped units) is used? What does the di\u001berent behavior for large number\n",
    "of patterns mean?\n",
    "\n",
    "- ..."
   ]
  },
  {
   "cell_type": "code",
   "execution_count": null,
   "metadata": {},
   "outputs": [],
   "source": []
  },
  {
   "cell_type": "markdown",
   "metadata": {},
   "source": [
    "---\n",
    "What is the maximum number of retrievable patterns for this network?\n",
    "\n",
    "- ..."
   ]
  },
  {
   "cell_type": "code",
   "execution_count": null,
   "metadata": {},
   "outputs": [],
   "source": []
  },
  {
   "cell_type": "markdown",
   "metadata": {},
   "source": [
    "---\n",
    "What happens if you bias the patterns, e.g. use sign(0.5+randn(300,100))\n",
    "or something similar to make them contain more +1? How does this relate\n",
    "to the capacity results of the picture patterns?\n",
    "\n",
    "- ..."
   ]
  },
  {
   "cell_type": "code",
   "execution_count": null,
   "metadata": {},
   "outputs": [],
   "source": []
  },
  {
   "cell_type": "markdown",
   "metadata": {},
   "source": [
    "## 3.6 Sparse patterns"
   ]
  },
  {
   "cell_type": "markdown",
   "metadata": {},
   "source": [
    "---\n",
    "Try generating sparse patterns with just 10% activity and see how many\n",
    "can be stored for different values of θ (use a script to check different values\n",
    "of the bias).\n",
    "\n",
    "- ..."
   ]
  },
  {
   "cell_type": "code",
   "execution_count": null,
   "metadata": {},
   "outputs": [],
   "source": []
  },
  {
   "cell_type": "markdown",
   "metadata": {},
   "source": [
    "---\n",
    "What about even sparser patterns (ρ = 0.05 or 0.01)?\n",
    "\n",
    "- ..."
   ]
  },
  {
   "cell_type": "code",
   "execution_count": null,
   "metadata": {},
   "outputs": [],
   "source": []
  }
 ],
 "metadata": {
  "kernelspec": {
   "display_name": "Python 3",
   "language": "python",
   "name": "python3"
  },
  "language_info": {
   "codemirror_mode": {
    "name": "ipython",
    "version": 3
   },
   "file_extension": ".py",
   "mimetype": "text/x-python",
   "name": "python",
   "nbconvert_exporter": "python",
   "pygments_lexer": "ipython3",
   "version": "3.7.4"
  }
 },
 "nbformat": 4,
 "nbformat_minor": 2
}
